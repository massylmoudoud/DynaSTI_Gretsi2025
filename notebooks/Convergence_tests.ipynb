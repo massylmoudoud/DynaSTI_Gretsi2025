{
 "cells": [
  {
   "cell_type": "markdown",
   "id": "d2177f0c",
   "metadata": {},
   "source": [
    "# Comparing the alternating optimization methods\n",
    "## Classical, AMORS and vector AMORS"
   ]
  },
  {
   "cell_type": "markdown",
   "id": "28030c90",
   "metadata": {},
   "source": [
    "Copyright (c) 2024 University of Strasbourg\n",
    "Author: Massyl Moudoud <mmoudoud@unistra.fr> \n",
    "Contributor(s) : Céline Meillier <meillier@unistra.fr>, Vincent Mazet <vincent.mazet@unistra.fr>\n",
    "\n",
    "This work has been supported by the ANR project DynaSTI: ANR-22-CE45-0008\n",
    "\n",
    "This software is governed by the CeCILL  license under French law and\n",
    "abiding by the rules of distribution of free software.  You can  use, \n",
    "modify and/ or redistribute the software under the terms of the CeCILL\n",
    "license as circulated by CEA, CNRS and INRIA at the following URL\n",
    "\"http://www.cecill.info\". \n",
    "\n",
    "As a counterpart to the access to the source code and  rights to copy,\n",
    "modify and redistribute granted by the license, users are provided only\n",
    "with a limited warranty  and the software's author,  the holder of the\n",
    "economic rights,  and the successive licensors  have only  limited\n",
    "liability. \n",
    "\n",
    "In this respect, the user's attention is drawn to the risks associated\n",
    "with loading,  using,  modifying and/or developing or reproducing the\n",
    "software by the user in light of its specific status of free software,\n",
    "that may mean  that it is complicated to manipulate,  and  that  also\n",
    "therefore means  that it is reserved for developers  and  experienced\n",
    "professionals having in-depth computer knowledge. Users are therefore\n",
    "encouraged to load and test the software's suitability as regards their\n",
    "requirements in conditions enabling the security of their systems and/or \n",
    "data to be ensured and,  more generally, to use and operate it in the \n",
    "same conditions as regards security. \n",
    "\n",
    "The fact that you are presently reading this means that you have had\n",
    "knowledge of the CeCILL license and that you accept its terms."
   ]
  },
  {
   "cell_type": "code",
   "execution_count": 1,
   "id": "ee5a8fd2",
   "metadata": {},
   "outputs": [],
   "source": [
    "# If you have a valid latex install set to True\n",
    "# to render figure legends and labels in Latex style\n",
    "use_Latex = False"
   ]
  },
  {
   "cell_type": "code",
   "execution_count": 2,
   "id": "1f705669",
   "metadata": {},
   "outputs": [],
   "source": [
    "# Set paths\n",
    "import pathlib\n",
    "try: # Excecuted as script\n",
    "    script_path = str(pathlib.Path(__file__).parent.resolve()) +\"/\"\n",
    "except NameError: # Excecuted as notebook\n",
    "    script_path = \"\""
   ]
  },
  {
   "cell_type": "code",
   "execution_count": 6,
   "id": "94d0498c",
   "metadata": {},
   "outputs": [],
   "source": [
    "#imports\n",
    "import numpy as np\n",
    "import matplotlib.pyplot as plt\n",
    "import sys\n",
    "\n",
    "\n",
    "functionPath = script_path + \"../src\"\n",
    "sys.path.append(functionPath)\n",
    "\n",
    "from utile.plot_results_decomposition import plot_results\n",
    "from utile.eval_error import eval_error, rescale_D_A, rescale_D_A_oracle\n",
    "from utile.make_noisy_matrix import make_noise\n",
    "from joint_estimation_A_D.joint_optimization_A_D import joint_estimation_A_D\n",
    "from joint_estimation_A_D.joint_optimization_A_D_AMORS import joint_estimation_A_D_AMORS\n",
    "from joint_estimation_A_D.joint_optimization_A_D_vector_AMORS import joint_estimation_A_D_vector_AMORS"
   ]
  },
  {
   "cell_type": "code",
   "execution_count": 7,
   "id": "8e8b53a0",
   "metadata": {},
   "outputs": [],
   "source": [
    "import matplotlib\n",
    "import matplotlib.patches as mpatches\n",
    "import matplotlib.lines as mlines"
   ]
  },
  {
   "cell_type": "code",
   "execution_count": 8,
   "id": "93828343",
   "metadata": {},
   "outputs": [],
   "source": [
    "# Check is latex is used\n",
    "\n",
    "if use_Latex:\n",
    "    matplotlib.rcParams.update({'font.size': 20, 'text.usetex' : True, 'font.family':\"ptm\"})\n",
    "    matplotlib.rc('text.latex', preamble=r'\\usepackage{amsmath}')\n",
    "else:\n",
    "    # Latex install not used\n",
    "    plt.rcParams.update({'font.size': 20})"
   ]
  },
  {
   "cell_type": "markdown",
   "id": "16c61f69",
   "metadata": {},
   "source": [
    "# Load simulation data"
   ]
  },
  {
   "cell_type": "code",
   "execution_count": 9,
   "id": "0397f01a",
   "metadata": {},
   "outputs": [],
   "source": [
    "path =  script_path + \"../data/simulation/simulation_A_D_2024_12_18.npz\"\n",
    "\n",
    "data  = np.load(path)\n",
    "A_VT = data[\"A\"]\n",
    "D_VT = data[\"D\"]\n",
    "\n",
    "\n",
    "E, P = D_VT.shape\n",
    "T = A_VT.shape[1]\n",
    "\n",
    "D_tilde = np.int32(D_VT != 0)\n",
    "C_VT = D_VT @ A_VT"
   ]
  },
  {
   "cell_type": "code",
   "execution_count": 10,
   "id": "635c1cb4",
   "metadata": {},
   "outputs": [],
   "source": [
    "C_noise = make_noise(C_VT , 0)"
   ]
  },
  {
   "cell_type": "markdown",
   "id": "83c8a726",
   "metadata": {},
   "source": [
    "# Set optimization parameters"
   ]
  },
  {
   "cell_type": "code",
   "execution_count": 11,
   "id": "0b3efe76",
   "metadata": {},
   "outputs": [],
   "source": [
    "#set parameters of FISTA\n",
    "\n",
    "max_iter = 500\n",
    "\n",
    "#set parameter for A step\n",
    "lambda_L1_A= 0.08\n",
    "maxIter_A= 500\n",
    "lambda_TV= 1\n",
    "mu = 1\n",
    "\n",
    "param_A = { \"lambda_l1\" : lambda_L1_A, \"maxIter\" : maxIter_A ,\n",
    "           \"lambda_TV\" : lambda_TV, \"mu\":mu } \n",
    "\n",
    "#set parameters for D step\n",
    "lambda_L2_D = 2\n",
    "maxIter_D= 500\n",
    "\n",
    "param_D = { \"lambda_l2\":  lambda_L2_D, \"maxIter\": maxIter_D}"
   ]
  },
  {
   "cell_type": "code",
   "execution_count": 12,
   "id": "8dfb3e7d",
   "metadata": {},
   "outputs": [],
   "source": [
    "#intialization\n",
    "#use mean correlation\n",
    "C_mean = np.mean(C_noise , axis = 1)\n",
    "\n",
    "D_init = D_tilde * C_mean[: , np.newaxis] "
   ]
  },
  {
   "cell_type": "markdown",
   "id": "0592fd86",
   "metadata": {},
   "source": [
    "# Classical optimization"
   ]
  },
  {
   "cell_type": "code",
   "execution_count": 13,
   "id": "012bed69",
   "metadata": {},
   "outputs": [],
   "source": [
    "#set parameter for A step\n",
    "lambda_L1_A_AM= 0.082\n",
    "\n",
    "lambda_TV_AM= 1\n",
    "\n",
    "param_A_AM = { \"lambda_l1\" : lambda_L1_A_AM, \"maxIter\" : maxIter_A ,\n",
    "           \"lambda_TV\" : lambda_TV_AM, \"mu\":mu } \n",
    "\n",
    "#set parameters for D step\n",
    "lambda_L2_D_AM = 0.8\n",
    "    \n",
    "param_D_AM = { \"lambda_l2\":  lambda_L2_D_AM, \"maxIter\": maxIter_D}"
   ]
  },
  {
   "cell_type": "code",
   "execution_count": 22,
   "id": "f79efb37",
   "metadata": {
    "scrolled": true
   },
   "outputs": [
    {
     "name": "stdout",
     "output_type": "stream",
     "text": [
      "0\n",
      "100\n",
      "200\n",
      "300\n",
      "400\n"
     ]
    }
   ],
   "source": [
    "D_est , A_est , err = joint_estimation_A_D(C_noise, D_tilde, max_iter,  param_D_AM , param_A_AM,D_init = D_init, ret_err =True , C_VT = C_VT, D_VT = D_VT , A_VT = A_VT)\n",
    "\n",
    "C_est = D_est@A_est\n",
    "\n",
    "D_est, A_est = rescale_D_A(D_est, A_est)\n",
    "D_est, A_est = rescale_D_A_oracle(D_est, A_est, D_VT, A_VT)"
   ]
  },
  {
   "cell_type": "code",
   "execution_count": 26,
   "id": "46011644",
   "metadata": {},
   "outputs": [
    {
     "name": "stdout",
     "output_type": "stream",
     "text": [
      "############\n",
      "error on C is 0.1363487273691997\n",
      "############\n",
      "error on D is 0.06757907086265652\n",
      "############\n",
      "error on A is 0.23004076322656186\n"
     ]
    }
   ],
   "source": [
    "# If in notebook\n",
    "if script_path == \"\":\n",
    "    eval_error(C_est , D_est, A_est, C_VT, D_VT, A_VT)"
   ]
  },
  {
   "cell_type": "code",
   "execution_count": 1,
   "id": "5de1d59a",
   "metadata": {},
   "outputs": [],
   "source": [
    "# If in notebook\n",
    "if script_path == \"\":\n",
    "    plot_results(C_est , D_est, A_est, C_VT, D_VT, A_VT )"
   ]
  },
  {
   "cell_type": "markdown",
   "id": "b038e07b",
   "metadata": {},
   "source": [
    "# AMORS"
   ]
  },
  {
   "cell_type": "code",
   "execution_count": 30,
   "id": "fc8599b6",
   "metadata": {},
   "outputs": [],
   "source": [
    "#set parameters for A step\n",
    "lambda_L1_A_AMORS= 0.082\n",
    "lambda_TV_AMORS= 1\n",
    "\n",
    "param_A_AMORS = { \"lambda_l1\" : lambda_L1_A_AMORS, \"maxIter\" : maxIter_A ,\n",
    "           \"lambda_TV\" : lambda_TV_AMORS, \"mu\":mu } \n",
    "\n",
    "#set parameters for D step\n",
    "lambda_L2_D_AMORS = 0.8\n",
    "\n",
    "param_D_AMORS = { \"lambda_l2\":  lambda_L2_D_AMORS, \"maxIter\": maxIter_D}"
   ]
  },
  {
   "cell_type": "code",
   "execution_count": 31,
   "id": "4ea14d6b",
   "metadata": {
    "scrolled": true
   },
   "outputs": [
    {
     "name": "stdout",
     "output_type": "stream",
     "text": [
      "0\n",
      "100\n",
      "200\n",
      "300\n",
      "400\n",
      "No norm\n"
     ]
    }
   ],
   "source": [
    "D_est_AMORS , A_est_AMORS , err_AMORS, gamma_AMORS = joint_estimation_A_D_AMORS(C_noise, D_tilde,\n",
    "                                                                                max_iter,  param_D_AMORS,\n",
    "                                                                                param_A_AMORS, D_init = D_init,\n",
    "                                                                                ret_err =True , C_VT = C_VT, \n",
    "                                                                                D_VT = D_VT , A_VT = A_VT)\n",
    "\n",
    "C_est_AMORS = D_est_AMORS@A_est_AMORS\n",
    "\n",
    "D_est_AMORS, A_est_AMORS = rescale_D_A(D_est_AMORS, A_est_AMORS)\n",
    "D_est_AMORS, A_est_AMORS = rescale_D_A_oracle(D_est_AMORS, A_est_AMORS, D_VT, A_VT)"
   ]
  },
  {
   "cell_type": "code",
   "execution_count": 37,
   "id": "c4d24b65",
   "metadata": {},
   "outputs": [
    {
     "name": "stdout",
     "output_type": "stream",
     "text": [
      "############\n",
      "error on C is 0.12633459328632174\n",
      "############\n",
      "error on D is 0.09509628208242273\n",
      "############\n",
      "error on A is 0.27246903482811946\n"
     ]
    }
   ],
   "source": [
    "# If in notebook\n",
    "if script_path == \"\":\n",
    "    eval_error(C_est_AMORS , D_est_AMORS, A_est_AMORS, C_VT, D_VT, A_VT)"
   ]
  },
  {
   "cell_type": "code",
   "execution_count": 2,
   "id": "a87e32c5",
   "metadata": {},
   "outputs": [],
   "source": [
    "# If in notebook\n",
    "if script_path == \"\":\n",
    "    plot_results(C_est_AMORS , D_est_AMORS, A_est_AMORS, C_VT, D_VT, A_VT )"
   ]
  },
  {
   "cell_type": "markdown",
   "id": "68cc0418",
   "metadata": {},
   "source": [
    "# Vector AMORS"
   ]
  },
  {
   "cell_type": "code",
   "execution_count": 11,
   "id": "28cf2dde",
   "metadata": {},
   "outputs": [],
   "source": [
    "#set parameter for A step\n",
    "lambda_L1_A_VectAMORS = 0.01#*np.sqrt(1/np.sum(D_tilde, axis =0))#np.array([2, 1,1, 2, 1, 1])\n",
    "lambda_TV_VectAMORS = 0.4#np.ones(P)\n",
    "\n",
    "param_A_VectAMORS = { \"lambda_l1\" : lambda_L1_A_VectAMORS, \"maxIter\" : maxIter_A ,\n",
    "           \"lambda_TV\" : lambda_TV_VectAMORS, \"mu\":mu } \n",
    "\n",
    "#set parameters for D step\n",
    "lambda_L2_D_VectAMORS = 0.656\n",
    "\n",
    "param_D_VectAMORS = { \"lambda_l2\":  lambda_L2_D_VectAMORS, \"maxIter\": maxIter_D}"
   ]
  },
  {
   "cell_type": "code",
   "execution_count": 12,
   "id": "a62e4213",
   "metadata": {
    "scrolled": true
   },
   "outputs": [
    {
     "name": "stdout",
     "output_type": "stream",
     "text": [
      "0\n",
      "100\n",
      "200\n",
      "300\n",
      "400\n"
     ]
    }
   ],
   "source": [
    "D_est_VectAMORS , A_est_VectAMORS , err_VectAMORS, gamma_VectAMORS = joint_estimation_A_D_vector_AMORS(C_noise, D_tilde, max_iter,  param_D_VectAMORS , param_A_VectAMORS, D_init = D_init, ret_err =True , C_VT = C_VT, D_VT = D_VT , A_VT = A_VT)\n",
    "\n",
    "C_est_VectAMORS = D_est_VectAMORS@A_est_VectAMORS\n",
    "\n",
    "D_est_VectAMORS, A_est_VectAMORS = rescale_D_A(D_est_VectAMORS, A_est_VectAMORS)\n",
    "D_est_VectAMORS, A_est_VectAMORS = rescale_D_A_oracle(D_est_VectAMORS, A_est_VectAMORS, D_VT, A_VT)"
   ]
  },
  {
   "cell_type": "code",
   "execution_count": 17,
   "id": "d5b91fe1",
   "metadata": {},
   "outputs": [
    {
     "name": "stdout",
     "output_type": "stream",
     "text": [
      "############\n",
      "error on C is 0.11130126310790456\n",
      "############\n",
      "error on D is 0.052763861308895495\n",
      "############\n",
      "error on A is 0.17689369216133174\n"
     ]
    }
   ],
   "source": [
    "# If in notebook\n",
    "if script_path == \"\":\n",
    "    eval_error(C_est_VectAMORS , D_est_VectAMORS, A_est_VectAMORS, C_VT, D_VT, A_VT)"
   ]
  },
  {
   "cell_type": "code",
   "execution_count": 3,
   "id": "d28003ee",
   "metadata": {},
   "outputs": [],
   "source": [
    "# If in notebook\n",
    "if script_path == \"\":\n",
    "    plot_results(C_est_VectAMORS , D_est_VectAMORS, A_est_VectAMORS, C_noise, D_VT, A_VT)"
   ]
  },
  {
   "cell_type": "markdown",
   "id": "6752ff7b",
   "metadata": {},
   "source": [
    "# Rescaled D_init"
   ]
  },
  {
   "cell_type": "code",
   "execution_count": 138,
   "id": "4b87c0df",
   "metadata": {},
   "outputs": [],
   "source": [
    "## scalar factor"
   ]
  },
  {
   "cell_type": "code",
   "execution_count": 41,
   "id": "5e98cd7e",
   "metadata": {},
   "outputs": [],
   "source": [
    "factor_scalar = 10\n",
    "D_init_scalar_rescale = factor_scalar * D_tilde * C_mean[: , np.newaxis]"
   ]
  },
  {
   "cell_type": "code",
   "execution_count": 42,
   "id": "4b7eab08",
   "metadata": {},
   "outputs": [
    {
     "name": "stdout",
     "output_type": "stream",
     "text": [
      "0\n",
      "100\n",
      "200\n",
      "300\n",
      "400\n",
      "Max D\n",
      "No norm\n"
     ]
    }
   ],
   "source": [
    "# AM\n",
    "D_est_scalar_rescale , A_est_scalar_rescale , err_scalar_rescale = joint_estimation_A_D(C_noise, D_tilde, max_iter,  param_D_AM , param_A_AM,D_init = D_init_scalar_rescale, ret_err =True , C_VT = C_VT, D_VT = D_VT , A_VT = A_VT)\n",
    "C_est_scalar_rescale = D_est_scalar_rescale @ A_est_scalar_rescale\n",
    "D_est_scalar_rescale, A_est_scalar_rescale = rescale_D_A(D_est_scalar_rescale, A_est_scalar_rescale)\n",
    "D_est_scalar_rescale, A_est_scalar_rescale = rescale_D_A_oracle(D_est_scalar_rescale, A_est_scalar_rescale, D_VT, A_VT)"
   ]
  },
  {
   "cell_type": "code",
   "execution_count": 44,
   "id": "4a85ca29",
   "metadata": {},
   "outputs": [
    {
     "name": "stdout",
     "output_type": "stream",
     "text": [
      "############\n",
      "error on C is 0.1512654660306096\n",
      "############\n",
      "error on D is 0.47163933695445537\n",
      "############\n",
      "error on A is 0.6838201689839044\n"
     ]
    }
   ],
   "source": [
    "# If in notebook\n",
    "if script_path == \"\":\n",
    "    eval_error(C_est_scalar_rescale, D_est_scalar_rescale, A_est_scalar_rescale, C_VT, D_VT, A_VT)"
   ]
  },
  {
   "cell_type": "code",
   "execution_count": 4,
   "id": "f7133801",
   "metadata": {},
   "outputs": [],
   "source": [
    "# If in notebook\n",
    "if script_path == \"\":\n",
    "    plot_results(C_est_scalar_rescale , D_est_scalar_rescale, A_est_scalar_rescale, C_noise, D_VT, A_VT)"
   ]
  },
  {
   "cell_type": "code",
   "execution_count": 46,
   "id": "2ac0e407",
   "metadata": {},
   "outputs": [
    {
     "name": "stdout",
     "output_type": "stream",
     "text": [
      "0\n",
      "100\n",
      "200\n",
      "300\n",
      "400\n",
      "No norm\n"
     ]
    }
   ],
   "source": [
    "# AMORS\n",
    "D_est_AMORS_scalar_rescale , A_est_AMORS_scalar_rescale , err_AMORS_scalar_rescale, gamma_AMORS_scalar_rescale = joint_estimation_A_D_AMORS(C_noise, D_tilde,max_iter,  param_D_AMORS,param_A_AMORS, D_init = D_init_scalar_rescale,ret_err =True , C_VT = C_VT, D_VT = D_VT , A_VT = A_VT)\n",
    "C_est_AMORS_scalar_rescale = D_est_AMORS_scalar_rescale@A_est_AMORS_scalar_rescale\n",
    "D_est_AMORS_scalar_rescale, A_est_AMORS_scalar_rescale = rescale_D_A(D_est_AMORS_scalar_rescale, A_est_AMORS_scalar_rescale)\n",
    "D_est_AMORS_scalar_rescale, A_est_AMORS_scalar_rescale = rescale_D_A_oracle(D_est_AMORS_scalar_rescale, A_est_AMORS_scalar_rescale, D_VT, A_VT)"
   ]
  },
  {
   "cell_type": "code",
   "execution_count": 48,
   "id": "c9c03c95",
   "metadata": {},
   "outputs": [
    {
     "name": "stdout",
     "output_type": "stream",
     "text": [
      "############\n",
      "error on C is 0.12633459328549362\n",
      "############\n",
      "error on D is 0.09509628207665569\n",
      "############\n",
      "error on A is 0.2724690348021147\n"
     ]
    }
   ],
   "source": [
    "# If in notebook\n",
    "if script_path == \"\":\n",
    "    eval_error(C_est_AMORS_scalar_rescale, D_est_AMORS_scalar_rescale, A_est_AMORS_scalar_rescale, C_VT, D_VT, A_VT)"
   ]
  },
  {
   "cell_type": "code",
   "execution_count": 5,
   "id": "f62666f5",
   "metadata": {},
   "outputs": [],
   "source": [
    "# If in notebook\n",
    "if script_path == \"\":\n",
    "    plot_results(C_est_AMORS_scalar_rescale , D_est_AMORS_scalar_rescale, A_est_AMORS_scalar_rescale, C_noise, D_VT, A_VT)"
   ]
  },
  {
   "cell_type": "code",
   "execution_count": 51,
   "id": "4fbb3604",
   "metadata": {},
   "outputs": [
    {
     "name": "stdout",
     "output_type": "stream",
     "text": [
      "0\n",
      "100\n",
      "200\n",
      "300\n",
      "400\n",
      "is took 51.882368087768555\n"
     ]
    }
   ],
   "source": [
    "# VectAMORS\n",
    "D_est_VectAMORS_scalar_rescale , A_est_VectAMORS_scalar_rescale , err_VectAMORS_scalar_rescale, gamma_VectAMORS_scalar_rescale = joint_estimation_A_D_vector_AMORS(C_noise, D_tilde, max_iter,  param_D_VectAMORS , param_A_VectAMORS, D_init = D_init_scalar_rescale, ret_err =True , C_VT = C_VT, D_VT = D_VT , A_VT = A_VT)\n",
    "C_est_VectAMORS_scalar_rescale = D_est_VectAMORS_scalar_rescale@A_est_VectAMORS_scalar_rescale\n",
    "D_est_VectAMORS_scalar_rescale, A_est_VectAMORS_scalar_rescale = rescale_D_A(D_est_VectAMORS_scalar_rescale, A_est_VectAMORS_scalar_rescale)\n",
    "D_est_VectAMORS_scalar_rescale, A_est_VectAMORS_scalar_rescale = rescale_D_A_oracle(D_est_VectAMORS_scalar_rescale, A_est_VectAMORS_scalar_rescale, D_VT, A_VT)"
   ]
  },
  {
   "cell_type": "code",
   "execution_count": 52,
   "id": "ae6a66e6",
   "metadata": {},
   "outputs": [
    {
     "name": "stdout",
     "output_type": "stream",
     "text": [
      "############\n",
      "error on C is 0.11130126310790453\n",
      "############\n",
      "error on D is 0.052763861308895446\n",
      "############\n",
      "error on A is 0.17689369216133058\n"
     ]
    }
   ],
   "source": [
    "# If in notebook\n",
    "if script_path == \"\":    \n",
    "    eval_error(C_est_VectAMORS_scalar_rescale, D_est_VectAMORS_scalar_rescale, A_est_VectAMORS_scalar_rescale, C_VT, D_VT, A_VT)"
   ]
  },
  {
   "cell_type": "code",
   "execution_count": 6,
   "id": "14c4d36d",
   "metadata": {},
   "outputs": [],
   "source": [
    "# If in notebook\n",
    "if script_path == \"\":\n",
    "    plot_results(C_est_VectAMORS_scalar_rescale , D_est_VectAMORS_scalar_rescale, A_est_VectAMORS_scalar_rescale, C_noise, D_VT, A_VT)"
   ]
  },
  {
   "cell_type": "code",
   "execution_count": 54,
   "id": "db7a54ca",
   "metadata": {},
   "outputs": [],
   "source": [
    "## vector factor"
   ]
  },
  {
   "cell_type": "code",
   "execution_count": 55,
   "id": "b1978f28",
   "metadata": {},
   "outputs": [],
   "source": [
    "factor_vector = np.array([ 2,  4, 9, 10,  8,  7])\n",
    "D_init_vector_rescale = factor_vector * D_tilde * C_mean[: , np.newaxis]"
   ]
  },
  {
   "cell_type": "code",
   "execution_count": 56,
   "id": "b5154fd1",
   "metadata": {},
   "outputs": [
    {
     "name": "stdout",
     "output_type": "stream",
     "text": [
      "0\n",
      "100\n",
      "200\n",
      "300\n",
      "400\n",
      "Max D\n",
      "No norm\n"
     ]
    }
   ],
   "source": [
    "# AM\n",
    "D_est_vector_rescale , A_est_vector_rescale , err_vector_rescale = joint_estimation_A_D(C_noise, D_tilde, max_iter,  param_D_AM , param_A_AM,D_init = D_init_vector_rescale, ret_err =True , C_VT = C_VT, D_VT = D_VT , A_VT = A_VT)\n",
    "C_est_vector_rescale = D_est_vector_rescale@A_est_vector_rescale\n",
    "D_est_vector_rescale, A_est_vector_rescale = rescale_D_A(D_est_vector_rescale, A_est_vector_rescale)\n",
    "D_est_vector_rescale, A_est_vector_rescale = rescale_D_A_oracle(D_est_vector_rescale, A_est_vector_rescale, D_VT, A_VT)"
   ]
  },
  {
   "cell_type": "code",
   "execution_count": 58,
   "id": "78149d44",
   "metadata": {},
   "outputs": [
    {
     "name": "stdout",
     "output_type": "stream",
     "text": [
      "############\n",
      "error on C is 0.1515319326975355\n",
      "############\n",
      "error on D is 0.44850150658403054\n",
      "############\n",
      "error on A is 0.6886646630131203\n"
     ]
    }
   ],
   "source": [
    "# If in notebook\n",
    "if script_path == \"\":\n",
    "    eval_error(C_est_vector_rescale, D_est_vector_rescale, A_est_vector_rescale, C_VT, D_VT, A_VT)"
   ]
  },
  {
   "cell_type": "code",
   "execution_count": 7,
   "id": "a11145dd",
   "metadata": {},
   "outputs": [],
   "source": [
    "# If in notebook\n",
    "if script_path == \"\":\n",
    "    plot_results(C_est_vector_rescale , D_est_vector_rescale, A_est_vector_rescale, C_noise, D_VT, A_VT)"
   ]
  },
  {
   "cell_type": "code",
   "execution_count": 60,
   "id": "875079af",
   "metadata": {},
   "outputs": [
    {
     "name": "stdout",
     "output_type": "stream",
     "text": [
      "0\n",
      "100\n",
      "200\n",
      "300\n",
      "400\n",
      "Max D\n",
      "No norm\n",
      "No norm\n",
      "No norm\n"
     ]
    }
   ],
   "source": [
    "# AMORS\n",
    "D_est_AMORS_vector_rescale , A_est_AMORS_vector_rescale , err_AMORS_vector_rescale, gamma_AMORS_vector_rescale = joint_estimation_A_D_AMORS(C_noise, D_tilde,max_iter, param_D_AMORS,param_A_AMORS, D_init = D_init_vector_rescale,ret_err =True , C_VT = C_VT, D_VT = D_VT , A_VT = A_VT)\n",
    "C_est_AMORS_vector_rescale = D_est_AMORS_vector_rescale@A_est_AMORS_vector_rescale\n",
    "D_est_AMORS_vector_rescale, A_est_AMORS_vector_rescale = rescale_D_A(D_est_AMORS_vector_rescale, A_est_AMORS_vector_rescale)\n",
    "D_est_AMORS_vector_rescale, A_est_AMORS_vector_rescale = rescale_D_A_oracle(D_est_AMORS_vector_rescale, A_est_AMORS_vector_rescale, D_VT, A_VT)"
   ]
  },
  {
   "cell_type": "code",
   "execution_count": 61,
   "id": "a5bc484f",
   "metadata": {},
   "outputs": [
    {
     "name": "stdout",
     "output_type": "stream",
     "text": [
      "############\n",
      "error on C is 0.13783651114621678\n",
      "############\n",
      "error on D is 0.5047797464188468\n",
      "############\n",
      "error on A is 0.7117187990483324\n"
     ]
    }
   ],
   "source": [
    "# If in notebook\n",
    "if script_path == \"\":\n",
    "    eval_error(C_est_AMORS_vector_rescale, D_est_AMORS_vector_rescale, A_est_AMORS_vector_rescale, C_VT, D_VT, A_VT)"
   ]
  },
  {
   "cell_type": "code",
   "execution_count": 8,
   "id": "4d0b9824",
   "metadata": {},
   "outputs": [],
   "source": [
    "# If in notebook\n",
    "if script_path == \"\":\n",
    "    plot_results(C_est_AMORS_vector_rescale , D_est_AMORS_vector_rescale, A_est_AMORS_vector_rescale, C_noise, D_VT, A_VT)"
   ]
  },
  {
   "cell_type": "code",
   "execution_count": 63,
   "id": "65514c98",
   "metadata": {},
   "outputs": [
    {
     "name": "stdout",
     "output_type": "stream",
     "text": [
      "0\n",
      "100\n",
      "200\n",
      "300\n",
      "400\n"
     ]
    }
   ],
   "source": [
    "# VectAMORS\n",
    "D_est_VectAMORS_vector_rescale , A_est_VectAMORS_vector_rescale , err_VectAMORS_vector_rescale, gamma_VectAMORS_vector_rescale = joint_estimation_A_D_vector_AMORS(C_noise, D_tilde, max_iter,  param_D_VectAMORS , param_A_VectAMORS, D_init = D_init_vector_rescale, ret_err =True , C_VT = C_VT, D_VT = D_VT , A_VT = A_VT)\n",
    "C_est_VectAMORS_vector_rescale = D_est_VectAMORS_vector_rescale@A_est_VectAMORS_vector_rescale\n",
    "D_est_VectAMORS_vector_rescale, A_est_VectAMORS_vector_rescale = rescale_D_A(D_est_VectAMORS_vector_rescale, A_est_VectAMORS_vector_rescale)\n",
    "D_est_VectAMORS_vector_rescale, A_est_VectAMORS_vector_rescale = rescale_D_A_oracle(D_est_VectAMORS_vector_rescale, A_est_VectAMORS_vector_rescale, D_VT, A_VT)"
   ]
  },
  {
   "cell_type": "code",
   "execution_count": 65,
   "id": "f987bcf0",
   "metadata": {},
   "outputs": [
    {
     "name": "stdout",
     "output_type": "stream",
     "text": [
      "############\n",
      "error on C is 0.11130126310790467\n",
      "############\n",
      "error on D is 0.05395309138171026\n",
      "############\n",
      "error on A is 0.1757586383675917\n"
     ]
    }
   ],
   "source": [
    "# If in notebook\n",
    "if script_path == \"\":\n",
    "    eval_error(C_est_VectAMORS_vector_rescale, D_est_VectAMORS_vector_rescale, A_est_VectAMORS_vector_rescale, C_VT, D_VT, A_VT)"
   ]
  },
  {
   "cell_type": "code",
   "execution_count": 9,
   "id": "2a5089a7",
   "metadata": {},
   "outputs": [],
   "source": [
    "# If in notebook\n",
    "if script_path == \"\":\n",
    "    plot_results(C_est_VectAMORS_vector_rescale , D_est_VectAMORS_vector_rescale, A_est_VectAMORS_vector_rescale, C_noise, D_VT, A_VT)"
   ]
  },
  {
   "cell_type": "markdown",
   "id": "87a0b9cb",
   "metadata": {},
   "source": [
    "### Joint plots"
   ]
  },
  {
   "cell_type": "code",
   "execution_count": 17,
   "id": "b43b0c6f",
   "metadata": {},
   "outputs": [
    {
     "data": {
      "image/png": "[encoded data removed]",
      "text/plain": [
       "<Figure size 1000x450 with 3 Axes>"
      ]
     },
     "metadata": {},
     "output_type": "display_data"
    }
   ],
   "source": [
    "### Which matrix\n",
    "i = 1\n",
    "# Normalize to have error in percent\n",
    "norm_C = np.linalg.norm(C_VT, ord =\"fro\")/100\n",
    "\n",
    "# crreate figure and subfigure\n",
    "fig = plt.figure( figsize=(10, 4.5))\n",
    "\n",
    "subfig1, subfig2 = fig.subfigures(1, 2, wspace=0.02, width_ratios = [0.65, 0.35])\n",
    "\n",
    "#################################################################################################\n",
    "# Convergence curves\n",
    "ax1 = subfig1.subplots(1,1)\n",
    "\n",
    "# D_init\n",
    "## AM\n",
    "ax1.plot(err[:, i]/norm_C, \"b\",  linewidth= 1)\n",
    "## AMORS\n",
    "ax1.plot(err_AMORS[:, i]/norm_C, \"y\",  linewidth= 1)\n",
    "##VectAMORS\n",
    "ax1.plot(err_VectAMORS[:, i]/norm_C, \"k\",  linewidth= 1)\n",
    "\n",
    "# Scalar rescale\n",
    "## AM\n",
    "ax1.plot(err_scalar_rescale[:, i]/norm_C, \"b\", linestyle =  (0, (4, 4)), linewidth= 2)\n",
    "## AMORS\n",
    "ax1.plot(err_AMORS_scalar_rescale[:, i]/norm_C, \"y\", linestyle =  (0, (4, 4)), linewidth= 2.2)\n",
    "##VectAMORS\n",
    "ax1.plot(err_VectAMORS_scalar_rescale[:, i]/norm_C, \"k\", linestyle =  (0, (4, 4)), linewidth= 2)\n",
    "\n",
    "# Vector rescale\n",
    "## AM\n",
    "ax1.plot(err_vector_rescale[:, i]/norm_C, \"b\", linestyle =  (0, (1, 1)), linewidth= 1.5)\n",
    "## AMORS\n",
    "ax1.plot(err_AMORS_vector_rescale[:, i]/norm_C, color = \"y\", linestyle =  (0, (1, 1)), linewidth= 1.5)\n",
    "## VectAMORS\n",
    "ax1.plot(err_VectAMORS_vector_rescale[:, i]/norm_C, \"k\", linestyle =  (0, (1, 1)), linewidth= 1.5)\n",
    "\n",
    "###########################################################\n",
    "# Legend\n",
    "AM_patch = mpatches.Patch(color='b', label='Méthode [4]')\n",
    "AMORS_patch = mpatches.Patch(color='y', label='AMORS [6]')\n",
    "VectAMORS_patch = mpatches.Patch(color='k', label='Méthode proposée')\n",
    "\n",
    "init_line = mlines.Line2D([], [], color='k', linewidth= 1,\n",
    "                          label=r\"$\\beta =1$\")\n",
    "scalar_rescale_line = mlines.Line2D([], [], color='k', linestyle =  (0, (4, 4)), linewidth= 1,\n",
    "                          label=rf\"$\\beta ={factor_scalar}$\")\n",
    "\n",
    "vector_rescale_line = mlines.Line2D([], [], color='k', linestyle =  (0, (1, 1)), linewidth= 1.5,\n",
    "                          label=r\"$\\boldsymbol{\\beta} = \"+f\"{list(factor_vector)}$\")\n",
    "\n",
    "ax1.legend(loc = (0.07, 0.7), ncol=2, fontsize = 15,  handles=[AM_patch, AMORS_patch, VectAMORS_patch, init_line, scalar_rescale_line, vector_rescale_line])\n",
    "\n",
    "ax1.set_xlabel(\"Itérations\")\n",
    "ax1.set_xticks(np.arange(0,501, 100))\n",
    "ax1.set_ylabel(\"Erreur de reconstruction \\%\")\n",
    "ax1.set_ylim((10, 30))\n",
    "ax1.set_title(\"(a)\", y = -0.34)\n",
    "\n",
    "###################################################################################################\n",
    "## Gamma\n",
    "ax2, ax3  = subfig2.subplots(1, 2, width_ratios= [0.7, 0.3], sharey=True)\n",
    "subfig2.subplots_adjust(wspace=0.05)  # adjust space between Axes\n",
    "\n",
    "# plot the same data on both Axes\n",
    "ax2.plot(gamma_VectAMORS)\n",
    "ax3.plot(gamma_VectAMORS)\n",
    "\n",
    "# zoom-in / limit the view to different portions of the data\n",
    "ax2.set_xlim(0 , 18)  # outliers only\n",
    "ax3.set_xlim(487, 500)  # most of the data\n",
    "\n",
    "# hide the spines between ax and ax3\n",
    "ax2.spines.right.set_visible(False)\n",
    "ax3.spines.left.set_visible(False)\n",
    "#ax2.xaxis.tick_top()\n",
    "#ax2.tick_params(labeltop=False)  # don't put tick labels at the top\n",
    "ax3.yaxis.tick_right()\n",
    "\n",
    "# Draw the broken lines between the axes\n",
    "d = 1 # proportion of vertical to horizontal extent of the slanted line\n",
    "kwargs = dict(marker=[(-1, -d), (1, d)], markersize=12,\n",
    "              linestyle=\"none\", color='k', mec='k', mew=1, clip_on=False)\n",
    "ax2.plot([1, 1], [1, 0], transform=ax2.transAxes, **kwargs)\n",
    "ax3.plot([0, 0], [0, 1], transform=ax3.transAxes, **kwargs)\n",
    "\n",
    "\n",
    "# Set x_ticks\n",
    "ax2.set_xticks([0, 5,  10, 15])\n",
    "ax3.set_xticks([490, 500])\n",
    "#ax2.tick_params(axis= \"x\", labelrotation = 80)\n",
    "#ax3.tick_params(axis= \"x\", labelrotation = 80)\n",
    "\n",
    "\n",
    "# Set axes labels\n",
    "ax2.set_xlabel(\"Itérations\")\n",
    "ax2.xaxis.set_label_coords( 0.7, -0.12)\n",
    "\n",
    "ax2.set_ylabel(r\"$\\boldsymbol{\\Gamma}$\")\n",
    "ax2.set_ylim((0.85,1.7))\n",
    "\n",
    "subfig2.suptitle(\"(b)\", y = -0.06)\n",
    "\n",
    "\n",
    "########################################################################################\n",
    "\n",
    "plt.savefig(script_path+ \"./figs/Figure4.pdf\",  bbox_inches='tight')\n",
    "\n",
    "# If in script close the figures\n",
    "if script_path != \"\":\n",
    "    plt.close(\"all\")"
   ]
  },
  {
   "cell_type": "code",
   "execution_count": 75,
   "id": "dc29a698",
   "metadata": {},
   "outputs": [],
   "source": [
    "# Save simulation results\n",
    "\n",
    "np.savez(script_path+\"results_simulations_26_03_FISTA\", \n",
    "        D_est , A_est , err,\n",
    "        D_est_AMORS , A_est_AMORS , err_AMORS, gamma_AMORS,\n",
    "        D_est_VectAMORS , A_est_VectAMORS , err_VectAMORS, gamma_VectAMORS,\n",
    "        D_est_scalar_rescale , A_est_scalar_rescale , err_scalar_rescale,\n",
    "        D_est_AMORS_scalar_rescale , A_est_AMORS_scalar_rescale , err_AMORS_scalar_rescale, gamma_AMORS_scalar_rescale,\n",
    "        D_est_VectAMORS_scalar_rescale , A_est_VectAMORS_scalar_rescale , err_VectAMORS_scalar_rescale, gamma_VectAMORS_scalar_rescale,\n",
    "        D_est_vector_rescale , A_est_vector_rescale , err_vector_rescale,\n",
    "        D_est_AMORS_vector_rescale , A_est_AMORS_vector_rescale , err_AMORS_vector_rescale, gamma_AMORS_vector_rescale ,\n",
    "        D_est_VectAMORS_vector_rescale , A_est_VectAMORS_vector_rescale , err_VectAMORS_vector_rescale, gamma_VectAMORS_vector_rescale,\n",
    "        factor_scalar, factor_vector\n",
    "        )"
   ]
  },
  {
   "cell_type": "code",
   "execution_count": 14,
   "id": "f10b5002",
   "metadata": {},
   "outputs": [],
   "source": [
    "var_names = [\"D_est\",\"A_est\",\"err\",\n",
    "\"D_est_AMORS\",\"A_est_AMORS\",\"err_AMORS\",\"gamma_AMORS\",\n",
    "\"D_est_VectAMORS\",\"A_est_VectAMORS\",\"err_VectAMORS\",\"gamma_VectAMORS\",\n",
    "\"D_est_scalar_rescale\",\"A_est_scalar_rescale\",\"err_scalar_rescale\",\n",
    "\"D_est_AMORS_scalar_rescale\",\"A_est_AMORS_scalar_rescale\",\"err_AMORS_scalar_rescale\",\"gamma_AMORS_scalar_rescale\",\n",
    "\"D_est_VectAMORS_scalar_rescale\",\"A_est_VectAMORS_scalar_rescale\",\"err_VectAMORS_scalar_rescale\",\"gamma_VectAMORS_scalar_rescale\",\n",
    "\"D_est_vector_rescale\",\"A_est_vector_rescale\",\"err_vector_rescale\",\"D_est_AMORS_vector_rescale\",\"A_est_AMORS_vector_rescale\",\"err_AMORS_vector_rescale\",\"gamma_AMORS_vector_rescale\",\n",
    "\"D_est_VectAMORS_vector_rescale\",\"A_est_VectAMORS_vector_rescale\",\"err_VectAMORS_vector_rescale\",\"gamma_VectAMORS_vector_rescale\",\n",
    "\"factor_scalar\", \"factor_vector\"           \n",
    "            ]"
   ]
  },
  {
   "cell_type": "code",
   "execution_count": 16,
   "id": "714ee62b",
   "metadata": {},
   "outputs": [],
   "source": [
    "load_results = False\n",
    "if load_results:\n",
    "    data =  np.load(script_path+\"results_simulations_26_03_FISTA.npz\")\n",
    "    for var, file in zip(var_names,data.files):\n",
    "        exec(f\"{var} = data['{file}']\")"
   ]
  }
 ],
 "metadata": {
  "kernelspec": {
   "display_name": "Python 3 (ipykernel)",
   "language": "python",
   "name": "python3"
  },
  "language_info": {
   "codemirror_mode": {
    "name": "ipython",
    "version": 3
   },
   "file_extension": ".py",
   "mimetype": "text/x-python",
   "name": "python",
   "nbconvert_exporter": "python",
   "pygments_lexer": "ipython3",
   "version": "3.11.11"
  }
 },
 "nbformat": 4,
 "nbformat_minor": 5
}
