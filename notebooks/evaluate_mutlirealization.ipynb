{
 "cells": [
  {
   "cell_type": "markdown",
   "id": "4c639f9e",
   "metadata": {},
   "source": [
    "# Evaluate AMORS methods\n",
    "This notebook explores the results of evaluating the AMORS and VectAMORS algorithms with different hyperparameters and data conditions"
   ]
  },
  {
   "cell_type": "markdown",
   "id": "a4657baa",
   "metadata": {},
   "source": [
    "Copyright (c) 2024 University of Strasbourg\n",
    "Author: Massyl Moudoud <mmoudoud@unistra.fr> \n",
    "Contributor(s) : Céline Meillier <meillier@unistra.fr>, Vincent Mazet <vincent.mazet@unistra.fr>\n",
    "\n",
    "This work has been supported by the ANR project DynaSTI: ANR-22-CE45-0008\n",
    "\n",
    "This software is governed by the CeCILL  license under French law and\n",
    "abiding by the rules of distribution of free software.  You can  use, \n",
    "modify and/ or redistribute the software under the terms of the CeCILL\n",
    "license as circulated by CEA, CNRS and INRIA at the following URL\n",
    "\"http://www.cecill.info\". \n",
    "\n",
    "As a counterpart to the access to the source code and  rights to copy,\n",
    "modify and redistribute granted by the license, users are provided only\n",
    "with a limited warranty  and the software's author,  the holder of the\n",
    "economic rights,  and the successive licensors  have only  limited\n",
    "liability. \n",
    "\n",
    "In this respect, the user's attention is drawn to the risks associated\n",
    "with loading,  using,  modifying and/or developing or reproducing the\n",
    "software by the user in light of its specific status of free software,\n",
    "that may mean  that it is complicated to manipulate,  and  that  also\n",
    "therefore means  that it is reserved for developers  and  experienced\n",
    "professionals having in-depth computer knowledge. Users are therefore\n",
    "encouraged to load and test the software's suitability as regards their\n",
    "requirements in conditions enabling the security of their systems and/or \n",
    "data to be ensured and,  more generally, to use and operate it in the \n",
    "same conditions as regards security. \n",
    "\n",
    "The fact that you are presently reading this means that you have had\n",
    "knowledge of the CeCILL license and that you accept its terms."
   ]
  },
  {
   "cell_type": "code",
   "execution_count": 1,
   "id": "6cd1e7dc",
   "metadata": {},
   "outputs": [],
   "source": [
    "# If you have a valid latex install set to True\n",
    "# to render figure legends and labels in Latex style\n",
    "use_Latex = False"
   ]
  },
  {
   "cell_type": "code",
   "execution_count": 2,
   "id": "49b397e8",
   "metadata": {},
   "outputs": [],
   "source": [
    "# Set paths\n",
    "import pathlib\n",
    "try:\n",
    "    script_path = str(pathlib.Path(__file__).parent.resolve()) +\"/\"\n",
    "except NameError:\n",
    "    script_path = \"\""
   ]
  },
  {
   "cell_type": "code",
   "execution_count": 3,
   "id": "61c23628",
   "metadata": {},
   "outputs": [],
   "source": [
    "#Imports\n",
    "import numpy as np\n",
    "import matplotlib\n",
    "import matplotlib.pyplot as plt\n",
    "import seaborn as sns\n",
    "import pandas as pd\n",
    "import sys\n",
    "import json\n",
    "import gzip\n",
    "\n",
    "functionPath = script_path + \"../src\"\n",
    "sys.path.append(functionPath)\n",
    "\n",
    "from utile.eval_error import get_rescaled_errors"
   ]
  },
  {
   "cell_type": "code",
   "execution_count": 4,
   "id": "2ba03dde",
   "metadata": {},
   "outputs": [],
   "source": [
    "# Check is latex is used\n",
    "if use_Latex:\n",
    "    matplotlib.rcParams.update({'font.size': 20, 'text.usetex' : True, 'font.family':\"ptm\"})\n",
    "    matplotlib.rc('text.latex', preamble=r'\\usepackage{amsmath}')\n",
    "else: \n",
    "    plt.rcParams.update({'font.size': 20})\n",
    "    "
   ]
  },
  {
   "cell_type": "code",
   "execution_count": 5,
   "id": "20171aea",
   "metadata": {},
   "outputs": [],
   "source": [
    "#disable warnings\n",
    "import warnings\n",
    "warnings.filterwarnings(\"ignore\")"
   ]
  },
  {
   "cell_type": "code",
   "execution_count": 6,
   "id": "9b35ad42",
   "metadata": {},
   "outputs": [],
   "source": [
    "#load ground truth data\n",
    "datapath = script_path + \"../data/simulation/simulation_A_D_2024_12_18.npz\"\n",
    "\n",
    "data  = np.load(datapath)\n",
    "A_VT = data[\"A\"]\n",
    "D_VT = data[\"D\"]\n",
    "\n",
    "E, P = D_VT.shape\n",
    "T = A_VT.shape[1]\n",
    "\n",
    "D_tilde = np.int32(D_VT != 0)\n",
    "C_VT = D_VT @ A_VT"
   ]
  },
  {
   "cell_type": "markdown",
   "id": "a1cfa223",
   "metadata": {},
   "source": [
    "# Effect of $\\lambda_{\\ell_1}$ and $\\lambda_{TV}$ hyperparameters"
   ]
  },
  {
   "cell_type": "code",
   "execution_count": 9,
   "id": "c1a0970c",
   "metadata": {},
   "outputs": [],
   "source": [
    "resultpath = script_path + \"../scripts/optimization_results/\""
   ]
  },
  {
   "cell_type": "code",
   "execution_count": 10,
   "id": "e54a3f9d",
   "metadata": {},
   "outputs": [],
   "source": [
    "snr_val = 0\n",
    "\n",
    "\n",
    "res_path = resultpath + f\"FISTA_multi_realisation_result_A_D_SNR_{snr_val}.json.gz\"\n",
    "with gzip.open(res_path, 'rt', encoding='UTF-8') as zipfile:\n",
    "        res_A_D = json.load(zipfile)\n",
    "        \n",
    "        \n",
    "#Convert back array to numpy\n",
    "for i , res in enumerate(res_A_D):\n",
    "    for key, val in res.items():\n",
    "        res_A_D[i][key] = np.array(val)\n",
    "        \n",
    "#keep track of the variables names in the array\n",
    "idx_to_var = {idx : var for idx ,var in enumerate(res_A_D[0].keys())}\n",
    "var_to_idx = {var : idx for idx ,var in enumerate(res_A_D[0].keys())}\n",
    "\n",
    "Nb_experiments = len(res_A_D)"
   ]
  },
  {
   "cell_type": "code",
   "execution_count": 11,
   "id": "929d7c6f",
   "metadata": {},
   "outputs": [],
   "source": [
    "labels_dict = {0: \"AM-AMORS\",\n",
    "               1: \"VectAMORS\",\n",
    "               2: \"mean\"\n",
    "              }\n",
    "labels_var_to_idx = {label:i for i, label in labels_dict.items()}"
   ]
  },
  {
   "cell_type": "code",
   "execution_count": 12,
   "id": "11144c70",
   "metadata": {},
   "outputs": [],
   "source": [
    "error = np.zeros((Nb_experiments, 4))\n",
    "error_AMORS = np.zeros((Nb_experiments, 4))\n",
    "error_VectAMORS = np.zeros((Nb_experiments, 4))\n",
    "\n",
    "lambda_L2_D = np.zeros(Nb_experiments)\n",
    "lambda_L1_A = np.zeros(Nb_experiments)\n",
    "lambda_TV_A = np.zeros(Nb_experiments)\n",
    "\n",
    "labels = np.zeros(Nb_experiments)\n",
    "\n",
    "\n",
    "for i, res in enumerate(res_A_D):\n",
    "    error[i,:] = res[\"err\"][-1,:]\n",
    "    error_AMORS[i,:] = res[\"err_AMORS\"][-1,:]\n",
    "    error_VectAMORS[i,:] = res[\"err_VectAMORS\"][-1,:]\n",
    "    lambda_L2_D[i] = res[\"lambda_l2_D\"]\n",
    "    lambda_L1_A[i] = res[\"lambda_l1_A\"]\n",
    "    lambda_TV_A[i] = res[\"lambda_TV\"]\n",
    "    \n",
    "    labels[i] = labels_var_to_idx[str(res[\"param_label\"])]\n",
    "\n",
    "N_realizations = np.count_nonzero(labels==0)"
   ]
  },
  {
   "cell_type": "code",
   "execution_count": 13,
   "id": "ec158386",
   "metadata": {},
   "outputs": [],
   "source": [
    "#rescale estimated matrices with oracle rescaling\n",
    "\n",
    "for i, res in enumerate(res_A_D):\n",
    "    error[i,2:] = get_rescaled_errors(res[\"D_est\"],\n",
    "                                      res[\"A_est\"],\n",
    "                                      D_VT,\n",
    "                                      res[\"A_VT\"])\n",
    "    \n",
    "    error_AMORS[i,2:] = get_rescaled_errors(res[\"D_est_AMORS\"],\n",
    "                                            res[\"A_est_AMORS\"],\n",
    "                                            D_VT, \n",
    "                                            res[\"A_VT\"])\n",
    "    \n",
    "    error_VectAMORS[i,2:] = get_rescaled_errors(res[\"D_est_VectAMORS\"], \n",
    "                                                res[\"A_est_VectAMORS\"], \n",
    "                                                D_VT, \n",
    "                                                res[\"A_VT\"])"
   ]
  },
  {
   "cell_type": "code",
   "execution_count": 14,
   "id": "9a0ab66c",
   "metadata": {},
   "outputs": [],
   "source": [
    "# Convert error to percents\n",
    "\n",
    "# D\n",
    "error[:, 2] = error[:, 2]*100/np.linalg.norm(D_VT, ord=\"fro\")\n",
    "error_AMORS[:, 2] = error_AMORS[:, 2]*100/np.linalg.norm(D_VT, ord=\"fro\")\n",
    "error_VectAMORS[:, 2] = error_VectAMORS[:, 2]*100/np.linalg.norm(D_VT, ord=\"fro\")\n",
    "\n",
    "for i, res in enumerate(res_A_D):\n",
    "    # C\n",
    "    error[i, 1] = error[i, 1]*100 / np.linalg.norm(D_VT@res[\"A_VT\"], ord=\"fro\")\n",
    "    error_AMORS[i, 1] = error_AMORS[i, 1]*100 / np.linalg.norm(D_VT@res[\"A_VT\"], ord=\"fro\")\n",
    "    error_VectAMORS[i, 1] = error_VectAMORS[i, 1]*100 / np.linalg.norm(D_VT@res[\"A_VT\"], ord=\"fro\")\n",
    "    \n",
    "    # A\n",
    "    error[i, 3] = error[i, 3]*100 / np.linalg.norm(res[\"A_VT\"], ord=\"fro\")\n",
    "    error_AMORS[i, 3] = error_AMORS[i, 3]*100 / np.linalg.norm(res[\"A_VT\"], ord=\"fro\")\n",
    "    error_VectAMORS[i, 3] = error_VectAMORS[i, 3]*100 / np.linalg.norm(res[\"A_VT\"], ord=\"fro\")"
   ]
  },
  {
   "cell_type": "markdown",
   "id": "d753774b",
   "metadata": {},
   "source": [
    "## Error per param set"
   ]
  },
  {
   "cell_type": "code",
   "execution_count": 15,
   "id": "dad5fea5",
   "metadata": {},
   "outputs": [
    {
     "name": "stdout",
     "output_type": "stream",
     "text": [
      "#########################################\n",
      "The proposed methods has lower error with the best param of AM-AMORS\n",
      "##############\n",
      "In  C\n",
      "Compared to classical AM\n",
      "69.0\n",
      "Compared to AMORS\n",
      "18.0\n",
      "##############\n",
      "In D\n",
      "Compared to classical AM\n",
      "74.0\n",
      "Compared to AMORS\n",
      "82.0\n",
      "##############\n",
      "In A\n",
      "Compared to classical AM\n",
      "78.0\n",
      "Compared to AMORS\n",
      "90.0\n",
      "#########################################\n",
      "The proposed methods has lower error with the best param of VectAMORS\n",
      "##############\n",
      "In  C\n",
      "Compared to classical AM\n",
      "100.0\n",
      "Compared to AMORS\n",
      "100.0\n",
      "##############\n",
      "In D\n",
      "Compared to classical AM\n",
      "81.0\n",
      "Compared to AMORS\n",
      "92.0\n",
      "##############\n",
      "In A\n",
      "Compared to classical AM\n",
      "91.0\n",
      "Compared to AMORS\n",
      "94.0\n",
      "#########################################\n",
      "The proposed methods has lower error with the best param of mean\n",
      "##############\n",
      "In  C\n",
      "Compared to classical AM\n",
      "100.0\n",
      "Compared to AMORS\n",
      "98.0\n",
      "##############\n",
      "In D\n",
      "Compared to classical AM\n",
      "100.0\n",
      "Compared to AMORS\n",
      "99.0\n",
      "##############\n",
      "In A\n",
      "Compared to classical AM\n",
      "100.0\n",
      "Compared to AMORS\n",
      "100.0\n"
     ]
    }
   ],
   "source": [
    "error_matrices = [ \"Criterion\" ,\" C\" , \"D\" , \"A\"]\n",
    "\n",
    "for idx, label in labels_dict.items():\n",
    "    print(\"#########################################\")\n",
    "    print(\"The proposed methods has lower error with the best param of\", label)\n",
    "    select_idx = labels == idx\n",
    "    for i in range(1, 4):\n",
    "        print(\"##############\")\n",
    "        print(\"In\" , error_matrices[i])\n",
    "        print(\"Compared to classical AM\")\n",
    "        print(np.count_nonzero(error_VectAMORS[select_idx,i] <= error[select_idx,i])*100/N_realizations)\n",
    "        print(\"Compared to AMORS\")\n",
    "        print(np.count_nonzero(error_VectAMORS[select_idx,i] <= error_AMORS[select_idx,i])*100/N_realizations)"
   ]
  },
  {
   "cell_type": "markdown",
   "id": "5787021c",
   "metadata": {},
   "source": [
    "# Plot error"
   ]
  },
  {
   "cell_type": "code",
   "execution_count": 16,
   "id": "f18d8db0",
   "metadata": {},
   "outputs": [],
   "source": [
    "labels_dict = {0: \"$\\Theta^{\\mathrm{opt}}_{[4,6]}$\",\n",
    "               1: \"$\\Theta^{\\mathrm{opt}}_{\\mathrm{prop}}$\",\n",
    "               2: \"$\\Theta^{\\mathrm{opt}}_{\\mathrm{moy}}$\"\n",
    "              }"
   ]
  },
  {
   "cell_type": "code",
   "execution_count": 17,
   "id": "9daed040",
   "metadata": {},
   "outputs": [],
   "source": [
    "labels_names = pd.Series(np.concatenate((labels, labels, labels))).map(labels_dict)"
   ]
  },
  {
   "cell_type": "code",
   "execution_count": 18,
   "id": "f2634f3d",
   "metadata": {},
   "outputs": [
    {
     "data": {
      "image/png": "[encoded data removed]",
      "text/plain": [
       "<Figure size 900x400 with 1 Axes>"
      ]
     },
     "metadata": {},
     "output_type": "display_data"
    }
   ],
   "source": [
    "error_matrices = [ \"Criterion\" ,\" C\" , \"D\" , \"A\"]\n",
    "i = 1 #C\n",
    "plt.figure(figsize=(9, 4))#layout=\"constrained\" figsize=(8, 4)\n",
    "\n",
    "\n",
    "df = pd.DataFrame({\"Jeu de paramètres\": labels_names,\n",
    "               \"Méthode\" : [*([\"Méthode [4]\"] *Nb_experiments), \n",
    "                            *([\"AMORS [6]\"] * Nb_experiments),\n",
    "                            *([\"Méthode\\nproposée\"] *Nb_experiments)\n",
    "                           ],\n",
    "               \"EQM\" : np.concatenate((error[:, i], error_AMORS[:, i], error_VectAMORS[:, i]))\n",
    "              })\n",
    "\n",
    "ax = sns.boxplot(data = df,\n",
    "                 x = \"Jeu de paramètres\",\n",
    "                 y = \"EQM\",\n",
    "                 hue = \"Méthode\",\n",
    "                 palette= [\"b\" , \"y\", \"k\"],\n",
    "                 saturation= 1,\n",
    "                 #linecolor = \"g\"\n",
    "                 #legend = False\n",
    "                 #label = pd.unique(df[\"Méthode\"]) \n",
    "                            )\n",
    "\n",
    "plt.ylabel(\" Erreur \\%\")\n",
    "\n",
    "plt.xlabel(\"\")\n",
    "#plt.xticks(rotation=10)\n",
    "#plt.title(error_matrices[i])\n",
    "\n",
    "#plt.grid()\n",
    "legend = plt.legend(loc = (1.006,0.35))#, ncol =3)\n",
    "# Remove axes legend and let only the figure one\n",
    "#ax.get_legend().remove()\n",
    "plt.savefig(script_path + \"./figs/Figure3.pdf\",\n",
    "            bbox_extra_artists = [legend],\n",
    "            bbox_inches =\"tight\",\n",
    "            pad_inches = 0.2\n",
    "           )\n",
    "\n",
    "# If in script close the figures\n",
    "if script_path != \"\":\n",
    "    plt.close(\"all\")\n"
   ]
  },
  {
   "cell_type": "code",
   "execution_count": null,
   "id": "ef213ecf",
   "metadata": {},
   "outputs": [],
   "source": []
  }
 ],
 "metadata": {
  "kernelspec": {
   "display_name": "Python 3 (ipykernel)",
   "language": "python",
   "name": "python3"
  },
  "language_info": {
   "codemirror_mode": {
    "name": "ipython",
    "version": 3
   },
   "file_extension": ".py",
   "mimetype": "text/x-python",
   "name": "python",
   "nbconvert_exporter": "python",
   "pygments_lexer": "ipython3",
   "version": "3.11.11"
  }
 },
 "nbformat": 4,
 "nbformat_minor": 5
}
